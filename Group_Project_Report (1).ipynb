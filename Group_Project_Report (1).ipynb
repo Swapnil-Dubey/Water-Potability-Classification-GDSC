{
  "cells": [
    {
      "cell_type": "markdown",
      "id": "48f36d6e-654f-4a59-97ff-2cd0937acab9",
      "metadata": {
        "tags": [],
        "id": "48f36d6e-654f-4a59-97ff-2cd0937acab9"
      },
      "source": [
        "# Project Report (Water Potability Classification)\n",
        "## Training a classification model to determine water potability based on measurable predictors\n",
        "\n"
      ]
    },
    {
      "cell_type": "markdown",
      "id": "ab3d4895-5e71-408e-b704-76fc1adf59b4",
      "metadata": {
        "tags": [],
        "id": "ab3d4895-5e71-408e-b704-76fc1adf59b4"
      },
      "source": [
        "### Introduction"
      ]
    },
    {
      "cell_type": "markdown",
      "id": "cef92363-96b9-4e26-89e3-629e3a7b0283",
      "metadata": {
        "jp-MarkdownHeadingCollapsed": true,
        "tags": [],
        "id": "cef92363-96b9-4e26-89e3-629e3a7b0283"
      },
      "source": [
        "Potable water (water that is safe to drink) is a basic requirement for human life. Lack of access to potable water is an issue that continues to affect many regions globally. The United Nations Sustainable Development Goal 6 is accordingly: \"Ensure availability and sustainable management of water and sanitation for all”. According to the most recent 2020 report from the World Health Organization (WHO), an estimated 26% of the global population (1.97 billion individuals) did not have access to safely managed drinking water services (1). Researching sufficiently fast, reliable, and cost-effective ways of evaluating the safety of drinking water is crucial to addressing this issue. In 2016, UNICEF called for the production of rapid-test kits for detecting the bacterium *Escherichia coli* (usually present in fecally contaminated water) (https://www.unicef.org/innovation/rapid-water-quality-testing). Apart from microbes, various other factors affect water potability. For example, trihalomethanes are a type of disinfection by-products produced during some water treatment processes, and have been demonstrated to be carcinogenic to humans (2).\n",
        "\n",
        "In this project, we will utilize a synthetically generated dataset (https://www.kaggle.com/datasets/adityakadiwal/water-potability) containing over 3000 observations, each representing a sample of water. Each observation contains nine variables that affect water potability (pH, hardness, total dissolved solids, chloramines, sulfate, conductivity, organic carbon, trihalomethanes, and turbidity) as well as a score indicating whether or not the water is potable. Using this dataset, we aim to demonstrate how a classification model can be trained to accurately evaluate whether or not an unknown sample of water is potable based on measurable variables."
      ]
    },
    {
      "cell_type": "markdown",
      "id": "05bc208e-a6ab-43fc-ac76-ba057ec7d697",
      "metadata": {
        "tags": [],
        "id": "05bc208e-a6ab-43fc-ac76-ba057ec7d697"
      },
      "source": [
        "### Methods & Results"
      ]
    },
    {
      "cell_type": "markdown",
      "id": "a053ab62-3c93-4b51-ae7c-6e5a84433a2d",
      "metadata": {
        "id": "a053ab62-3c93-4b51-ae7c-6e5a84433a2d"
      },
      "source": [
        "All statistical methods are referenced from Data Science: A First Introduction by Tiffany Timbers, Trevor Campbell, and Melissa Lee (3)."
      ]
    },
    {
      "cell_type": "markdown",
      "id": "08712a25-15f4-40b2-bf96-dbe2c2647cbd",
      "metadata": {
        "tags": [],
        "id": "08712a25-15f4-40b2-bf96-dbe2c2647cbd"
      },
      "source": [
        "#### Exploratory Data Analysis"
      ]
    },
    {
      "cell_type": "code",
      "execution_count": null,
      "id": "93b5fead-d493-4810-b66b-b66d9b3b072f",
      "metadata": {
        "id": "93b5fead-d493-4810-b66b-b66d9b3b072f",
        "colab": {
          "base_uri": "https://localhost:8080/",
          "height": 133
        },
        "outputId": "365bb38c-a089-4f24-fa85-c988271c3be5"
      },
      "outputs": [
        {
          "output_type": "error",
          "ename": "ERROR",
          "evalue": "ignored",
          "traceback": [
            "Error in library(tidymodels): there is no package called ‘tidymodels’\nTraceback:\n",
            "1. library(tidymodels)"
          ]
        }
      ],
      "source": [
        "library(tidyverse)\n",
        "library(repr)\n",
        "library(tidymodels)\n",
        "library(GGally)\n",
        "library(ISLR)"
      ]
    },
    {
      "cell_type": "code",
      "execution_count": null,
      "id": "c4e1219b-6b00-43ce-8132-a37efe2c6f39",
      "metadata": {
        "id": "c4e1219b-6b00-43ce-8132-a37efe2c6f39",
        "colab": {
          "base_uri": "https://localhost:8080/",
          "height": 447
        },
        "outputId": "0d2388f0-ea96-4442-9d4a-c403727c34d9"
      },
      "outputs": [
        {
          "output_type": "stream",
          "name": "stderr",
          "text": [
            "\u001b[1mRows: \u001b[22m\u001b[34m3276\u001b[39m \u001b[1mColumns: \u001b[22m\u001b[34m10\u001b[39m\n",
            "\u001b[36m──\u001b[39m \u001b[1mColumn specification\u001b[22m \u001b[36m────────────────────────────────────────────────────────\u001b[39m\n",
            "\u001b[1mDelimiter:\u001b[22m \",\"\n",
            "\u001b[32mdbl\u001b[39m (10): ph, Hardness, Solids, Chloramines, Sulfate, Conductivity, Organic_...\n",
            "\n",
            "\u001b[36mℹ\u001b[39m Use `spec()` to retrieve the full column specification for this data.\n",
            "\u001b[36mℹ\u001b[39m Specify the column types or set `show_col_types = FALSE` to quiet this message.\n"
          ]
        },
        {
          "output_type": "stream",
          "name": "stdout",
          "text": [
            "[1] \"Number of rows in the table:  3276\"\n",
            "[1] \"Number of columns in the table:  10\"\n"
          ]
        },
        {
          "output_type": "display_data",
          "data": {
            "text/html": [
              "<table class=\"dataframe\">\n",
              "<caption>A tibble: 6 × 10</caption>\n",
              "<thead>\n",
              "\t<tr><th scope=col>ph</th><th scope=col>Hardness</th><th scope=col>Solids</th><th scope=col>Chloramines</th><th scope=col>Sulfate</th><th scope=col>Conductivity</th><th scope=col>Organic_carbon</th><th scope=col>Trihalomethanes</th><th scope=col>Turbidity</th><th scope=col>Potability</th></tr>\n",
              "\t<tr><th scope=col>&lt;dbl&gt;</th><th scope=col>&lt;dbl&gt;</th><th scope=col>&lt;dbl&gt;</th><th scope=col>&lt;dbl&gt;</th><th scope=col>&lt;dbl&gt;</th><th scope=col>&lt;dbl&gt;</th><th scope=col>&lt;dbl&gt;</th><th scope=col>&lt;dbl&gt;</th><th scope=col>&lt;dbl&gt;</th><th scope=col>&lt;dbl&gt;</th></tr>\n",
              "</thead>\n",
              "<tbody>\n",
              "\t<tr><td>      NA</td><td>204.8905</td><td>20791.32</td><td>7.300212</td><td>368.5164</td><td>564.3087</td><td>10.379783</td><td> 86.99097</td><td>2.963135</td><td>0</td></tr>\n",
              "\t<tr><td>3.716080</td><td>129.4229</td><td>18630.06</td><td>6.635246</td><td>      NA</td><td>592.8854</td><td>15.180013</td><td> 56.32908</td><td>4.500656</td><td>0</td></tr>\n",
              "\t<tr><td>8.099124</td><td>224.2363</td><td>19909.54</td><td>9.275884</td><td>      NA</td><td>418.6062</td><td>16.868637</td><td> 66.42009</td><td>3.055934</td><td>0</td></tr>\n",
              "\t<tr><td>8.316766</td><td>214.3734</td><td>22018.42</td><td>8.059332</td><td>356.8861</td><td>363.2665</td><td>18.436524</td><td>100.34167</td><td>4.628771</td><td>0</td></tr>\n",
              "\t<tr><td>9.092223</td><td>181.1015</td><td>17978.99</td><td>6.546600</td><td>310.1357</td><td>398.4108</td><td>11.558279</td><td> 31.99799</td><td>4.075075</td><td>0</td></tr>\n",
              "\t<tr><td>5.584087</td><td>188.3133</td><td>28748.69</td><td>7.544869</td><td>326.6784</td><td>280.4679</td><td> 8.399735</td><td> 54.91786</td><td>2.559708</td><td>0</td></tr>\n",
              "</tbody>\n",
              "</table>\n"
            ],
            "text/markdown": "\nA tibble: 6 × 10\n\n| ph &lt;dbl&gt; | Hardness &lt;dbl&gt; | Solids &lt;dbl&gt; | Chloramines &lt;dbl&gt; | Sulfate &lt;dbl&gt; | Conductivity &lt;dbl&gt; | Organic_carbon &lt;dbl&gt; | Trihalomethanes &lt;dbl&gt; | Turbidity &lt;dbl&gt; | Potability &lt;dbl&gt; |\n|---|---|---|---|---|---|---|---|---|---|\n|       NA | 204.8905 | 20791.32 | 7.300212 | 368.5164 | 564.3087 | 10.379783 |  86.99097 | 2.963135 | 0 |\n| 3.716080 | 129.4229 | 18630.06 | 6.635246 |       NA | 592.8854 | 15.180013 |  56.32908 | 4.500656 | 0 |\n| 8.099124 | 224.2363 | 19909.54 | 9.275884 |       NA | 418.6062 | 16.868637 |  66.42009 | 3.055934 | 0 |\n| 8.316766 | 214.3734 | 22018.42 | 8.059332 | 356.8861 | 363.2665 | 18.436524 | 100.34167 | 4.628771 | 0 |\n| 9.092223 | 181.1015 | 17978.99 | 6.546600 | 310.1357 | 398.4108 | 11.558279 |  31.99799 | 4.075075 | 0 |\n| 5.584087 | 188.3133 | 28748.69 | 7.544869 | 326.6784 | 280.4679 |  8.399735 |  54.91786 | 2.559708 | 0 |\n\n",
            "text/latex": "A tibble: 6 × 10\n\\begin{tabular}{llllllllll}\n ph & Hardness & Solids & Chloramines & Sulfate & Conductivity & Organic\\_carbon & Trihalomethanes & Turbidity & Potability\\\\\n <dbl> & <dbl> & <dbl> & <dbl> & <dbl> & <dbl> & <dbl> & <dbl> & <dbl> & <dbl>\\\\\n\\hline\n\t       NA & 204.8905 & 20791.32 & 7.300212 & 368.5164 & 564.3087 & 10.379783 &  86.99097 & 2.963135 & 0\\\\\n\t 3.716080 & 129.4229 & 18630.06 & 6.635246 &       NA & 592.8854 & 15.180013 &  56.32908 & 4.500656 & 0\\\\\n\t 8.099124 & 224.2363 & 19909.54 & 9.275884 &       NA & 418.6062 & 16.868637 &  66.42009 & 3.055934 & 0\\\\\n\t 8.316766 & 214.3734 & 22018.42 & 8.059332 & 356.8861 & 363.2665 & 18.436524 & 100.34167 & 4.628771 & 0\\\\\n\t 9.092223 & 181.1015 & 17978.99 & 6.546600 & 310.1357 & 398.4108 & 11.558279 &  31.99799 & 4.075075 & 0\\\\\n\t 5.584087 & 188.3133 & 28748.69 & 7.544869 & 326.6784 & 280.4679 &  8.399735 &  54.91786 & 2.559708 & 0\\\\\n\\end{tabular}\n",
            "text/plain": [
              "  ph       Hardness Solids   Chloramines Sulfate  Conductivity Organic_carbon\n",
              "1       NA 204.8905 20791.32 7.300212    368.5164 564.3087     10.379783     \n",
              "2 3.716080 129.4229 18630.06 6.635246          NA 592.8854     15.180013     \n",
              "3 8.099124 224.2363 19909.54 9.275884          NA 418.6062     16.868637     \n",
              "4 8.316766 214.3734 22018.42 8.059332    356.8861 363.2665     18.436524     \n",
              "5 9.092223 181.1015 17978.99 6.546600    310.1357 398.4108     11.558279     \n",
              "6 5.584087 188.3133 28748.69 7.544869    326.6784 280.4679      8.399735     \n",
              "  Trihalomethanes Turbidity Potability\n",
              "1  86.99097       2.963135  0         \n",
              "2  56.32908       4.500656  0         \n",
              "3  66.42009       3.055934  0         \n",
              "4 100.34167       4.628771  0         \n",
              "5  31.99799       4.075075  0         \n",
              "6  54.91786       2.559708  0         "
            ]
          },
          "metadata": {}
        }
      ],
      "source": [
        "set.seed(1999)\n",
        "options(repr.plot.width = 8, repr.plot.height = 7)\n",
        "#1. READ DATA\n",
        "url <- \"https://raw.githubusercontent.com/Swapnil-Dubey/Dsci100_Group93_/main/data/water_potability.csv\"\n",
        "water_potability_raw <- read_csv(url) #unedited \"raw\" dataset\n",
        "\n",
        "print(paste(\"Number of rows in the table: \",nrow(water_potability_raw))) #show number of observations in the raw dataset.\n",
        "print(paste(\"Number of columns in the table: \",ncol(water_potability_raw))) #show number of variables in the raw dataset.\n",
        "\n",
        "head(water_potability_raw)"
      ]
    },
    {
      "cell_type": "markdown",
      "id": "e7c8d79d-cb03-40d3-b698-6fbd62ff545c",
      "metadata": {
        "id": "e7c8d79d-cb03-40d3-b698-6fbd62ff545c"
      },
      "source": [
        "<center> (Figure 1: Original water potability dataset) </center>"
      ]
    },
    {
      "cell_type": "markdown",
      "id": "9afdb352-ab7f-4ee1-a9d8-007af948c5ad",
      "metadata": {
        "id": "9afdb352-ab7f-4ee1-a9d8-007af948c5ad"
      },
      "source": [
        "<hr noshade>\n",
        "\n",
        "Before we move on to the classification component, it is always required that we take a look at our data and understand the problem and the structure of the data and clean the data if necessary. \n",
        "    <br> </br>\n",
        "    \n",
        "Here you can notice that the predictive variable i.e <i>Potability</i> is of numeric type, however it only takes up the value 0 or 1 and hence we use `as.factor()` to convert it into a factor. <br>\n",
        "Furthermore, we don't want our data to contain any `NA` values, and hence we will ignore those values using `na.omit()`"
      ]
    },
    {
      "cell_type": "code",
      "execution_count": null,
      "id": "66ddb565-25da-487d-a8af-3eaf19fb431b",
      "metadata": {
        "id": "66ddb565-25da-487d-a8af-3eaf19fb431b"
      },
      "outputs": [],
      "source": [
        "#2. CLEAN DATA AND REMOVE NA ROWS\n",
        "water_potability_clean <- water_potability_raw |>\n",
        "    rename(hardness = Hardness, solids = Solids, chloramines = Chloramines, sulfate = Sulfate, conductivity = Conductivity, organic_carbon = Organic_carbon, trihalomethanes = Trihalomethanes, turbidity = Turbidity, potability = Potability) |>\n",
        "    mutate(potability = as_factor(potability)) |>\n",
        "    na.omit()\n",
        "\n",
        "print(paste(\"Number of rows in the table: \",nrow(water_potability_clean))) #number of observations in the cleaned dataset (NA removed)\n",
        "print(paste(\"Number of columns in the table: \",ncol(water_potability_clean))) #number of variables in the cleaned dataset (NA removed)\n",
        "\n",
        "head(water_potability_clean)"
      ]
    },
    {
      "cell_type": "markdown",
      "id": "a2a12b52-ab9c-437e-80e8-4dc2eb210f32",
      "metadata": {
        "id": "a2a12b52-ab9c-437e-80e8-4dc2eb210f32"
      },
      "source": [
        "<center> (Figure 2: Clean water potability dataset) </center>"
      ]
    },
    {
      "cell_type": "markdown",
      "id": "c11307a1-6fc3-4760-b331-e35e4fd245df",
      "metadata": {
        "id": "c11307a1-6fc3-4760-b331-e35e4fd245df"
      },
      "source": [
        "<hr noshade>\n",
        "\n",
        "The next step is to divide the data into training and testing datasets after selecting a predictive question to answer and wrangling the data. We split it in the ratio 3:1 (training: 75%, testing: 25%) \n",
        "    \n",
        "The `initial_split` function from `tidymodels` library splits the data for us.\n",
        "    "
      ]
    },
    {
      "cell_type": "code",
      "execution_count": null,
      "id": "47dc7c75-3452-47db-8d1c-8b67261f3b29",
      "metadata": {
        "id": "47dc7c75-3452-47db-8d1c-8b67261f3b29"
      },
      "outputs": [],
      "source": [
        "set.seed(1999)\n",
        "#3. CREATE TRAINING DATA and TESTING DATA\n",
        "water_split <- water_potability_clean |> #split the data 0.75/0.25\n",
        "    initial_split(prop = 0.75, strata = potability) \n",
        "\n",
        "\n",
        "water_train <- training(water_split)  #set the 0.75 split as the training data\n",
        "water_test <- testing(water_split) #set the 0.25 split as the testing data\n",
        "\n",
        "head(water_train)"
      ]
    },
    {
      "cell_type": "markdown",
      "id": "2a9ad823-9c27-4af4-8d31-114a93f1ba27",
      "metadata": {
        "id": "2a9ad823-9c27-4af4-8d31-114a93f1ba27"
      },
      "source": [
        "<center> (Figure 3: Training water potability dataset) </center>"
      ]
    },
    {
      "cell_type": "markdown",
      "id": "ae324091-df06-48bc-a021-1e2b09972688",
      "metadata": {
        "id": "ae324091-df06-48bc-a021-1e2b09972688"
      },
      "source": [
        "<hr noshade> \n",
        "\n",
        "Here we are trying to analyze the data i.e finding the mean of all the predictor variables for each group (potable and non-potable) <br>\n",
        "\n",
        "We use `summarize()` and `group_by` to find the means of all the predictor variables and count the number of observations for each group. Note that 59.7% of the observations in the training dataset are classified as not potable (0) and the remaining 40.3% are classified as potable (1).\n",
        "   "
      ]
    },
    {
      "cell_type": "code",
      "execution_count": null,
      "id": "b8a3f5c1-ad0b-4929-8526-7a420918533a",
      "metadata": {
        "id": "b8a3f5c1-ad0b-4929-8526-7a420918533a"
      },
      "outputs": [],
      "source": [
        "#4. SUMMARIZE DATA IN A TABLE\n",
        "water_train_means <- water_train |> #find means for all predictors grouped by potability\n",
        "    group_by(potability) |>\n",
        "    summarize(across(ph:turbidity, mean, na.rm=TRUE))\n",
        "\n",
        "water_train_nrows <- water_train |> #count number of observations in the two groups\n",
        "    group_by(potability) |>\n",
        "    summarize(n = n())\n",
        "\n",
        "water_train_summary <- water_train_means |> #merge grouped n dataframe with grouped means dataframe\n",
        "    merge(water_train_nrows)\n",
        "\n",
        "water_train_summary\n",
        "\n",
        "water_train %>%\n",
        "    group_by(potability) %>%\n",
        "    summarize(percentage = n()/nrow(water_train))"
      ]
    },
    {
      "cell_type": "markdown",
      "id": "20335e01-7bff-4a55-8bfd-382fc94f953d",
      "metadata": {
        "id": "20335e01-7bff-4a55-8bfd-382fc94f953d"
      },
      "source": [
        "<center> (Figure 4: Summarizing our water potability dataset to <br> find the mean of all the variables for each potability value) </center>"
      ]
    },
    {
      "cell_type": "markdown",
      "id": "4499375c-ce90-433a-ad80-3f25029ab859",
      "metadata": {
        "id": "4499375c-ce90-433a-ad80-3f25029ab859"
      },
      "source": [
        "<hr noshade>\n",
        "\n",
        "Let us get a summary of our data using the `summary()` function. This gives us the minimum, maximum, mean, median and, quantile values. <br>\n",
        "Quantile value determines what a fraction of the data looks like. For example, the 1st quantile value for ph tells us that 25% of the data lies below 6.0767. <br>\n",
        "<i>Note:</i> We do not remove the outliers from our data because they hold meaning. For example, a value as low as 320.9 in solids isn't considered an outlier because it corresponds to less number of minerals present in that particular sample of water."
      ]
    },
    {
      "cell_type": "code",
      "execution_count": null,
      "id": "e4a7e751-a8d8-4f7a-8378-f6228042ae9d",
      "metadata": {
        "id": "e4a7e751-a8d8-4f7a-8378-f6228042ae9d"
      },
      "outputs": [],
      "source": [
        "summary_water_potability <- summary(water_train)\n",
        "summary_water_potability"
      ]
    },
    {
      "cell_type": "markdown",
      "id": "b3bc6e0c-17ab-4975-80bc-aa4d4df5a81a",
      "metadata": {
        "id": "b3bc6e0c-17ab-4975-80bc-aa4d4df5a81a"
      },
      "source": [
        "<center> (Figure 5: Summary of our water potability dataset) </center>"
      ]
    },
    {
      "cell_type": "markdown",
      "id": "43e49520-db0f-49d0-9996-5e56ef5add64",
      "metadata": {
        "id": "43e49520-db0f-49d0-9996-5e56ef5add64"
      },
      "source": [
        "<hr noshade>\n",
        "\n",
        "We now want to check for the number of predictor variables necessary for our model. For that purpose, we find the correlation between each predictor variable. <br>\n",
        "The `ggpairs()` function from `GGally` library helps us do so by visualizing the correlation between them. <br>\n",
        "Here we find that none of the predictor variables are strongly related to each other and hence we decide to consider all the variables when building our model. The observations are also color-coded according to class. We can observe here that the potable and non-potable data points are virtually indistinguishable and share highly similar box plot distributions.<br>\n",
        "<i>Note:</i> Weak correlation corresponds to a value closer to 0 while a strong correlation has a correlation value closer to 1 or -1."
      ]
    },
    {
      "cell_type": "code",
      "execution_count": null,
      "id": "7cf6f052-f5a8-4e7b-b3e2-346b5af585fb",
      "metadata": {
        "id": "7cf6f052-f5a8-4e7b-b3e2-346b5af585fb"
      },
      "outputs": [],
      "source": [
        "options(repr.plot.width = 20, repr.plot.height = 20)\n",
        "\n",
        "water_eda <- water_train |>\n",
        "    ggpairs(aes(color = potability), \n",
        "            title = \"Correlation of the variables in water potability \\n\",\n",
        "            upper = list(continuous = wrap(\"cor\", size = 5))) +  \n",
        "    theme(text = element_text(size = 17))\n",
        "\n",
        "water_eda"
      ]
    },
    {
      "cell_type": "markdown",
      "id": "0afa373b-8b5b-4275-93e7-cdbe4f77f6a8",
      "metadata": {
        "id": "0afa373b-8b5b-4275-93e7-cdbe4f77f6a8"
      },
      "source": [
        "<center> (Figure 6: Correlation of the variables in water potability) </center>"
      ]
    },
    {
      "cell_type": "markdown",
      "id": "e6aca899-cc99-4d67-b214-f567fc0f8205",
      "metadata": {
        "id": "e6aca899-cc99-4d67-b214-f567fc0f8205"
      },
      "source": [
        "<hr noshade>\n",
        "\n",
        "Whenever using K-nearest neighbor classification scaling matters (size and range of each variable). This is because any variables with a large scale will have a much larger effect than variables with a small scale. After all, the classifier predicts classes by identifying observations closest to them. <br>\n",
        "We normally scale the data when creating the knn-model recipe using `step_scale()` and `step_center()`.\n",
        "\n",
        "Here, we scale all of the predictors as a percentage of the range of each predictor. This is done according to (Xi - Xmin)/(Xmax - Xmin). This is done for clear visualization of the means of each predictor according to class and to enable visual comparison across predictors."
      ]
    },
    {
      "cell_type": "code",
      "execution_count": null,
      "id": "7e370ea6-4b8e-46c8-8e2b-46fc9e23cd1f",
      "metadata": {
        "id": "7e370ea6-4b8e-46c8-8e2b-46fc9e23cd1f"
      },
      "outputs": [],
      "source": [
        "#5. SCALE TRAINING DATA (0 to 1)\n",
        "min_table <- water_train |> #min value of all predictors\n",
        "    select(-potability) |>\n",
        "    map_df(min)\n",
        "\n",
        "max_table <- water_train |> #max value of all predictors\n",
        "    select(-potability) |>\n",
        "    map_df(max)\n",
        "\n",
        "diff_table <- max_table - min_table #max - min for all predictors\n",
        "\n",
        "water_train_scaled <- water_train |> #scale all predictors X (0 to 1) according to (Xi - Xmin)/(Xmax - Xmin)\n",
        "    select(-potability) |>\n",
        "    mutate(ph = (ph - min_table$ph) / diff_table$ph, \n",
        "           hardness = (hardness - min_table$hardness) / diff_table$hardness,\n",
        "           solids = (solids - min_table$solids) / diff_table$solids, \n",
        "           chloramines = (chloramines - min_table$chloramines) / diff_table$chloramines,\n",
        "           sulfate = (sulfate - min_table$sulfate) / diff_table$sulfate, \n",
        "           conductivity = (conductivity - min_table$conductivity) / diff_table$conductivity,\n",
        "           organic_carbon = (organic_carbon - min_table$organic_carbon) / diff_table$organic_carbon, \n",
        "           trihalomethanes = (trihalomethanes - min_table$trihalomethanes) / diff_table$trihalomethanes,\n",
        "           turbidity = (turbidity - min_table$turbidity) / diff_table$turbidity) |>\n",
        "    bind_cols(potability = water_train$potability)"
      ]
    },
    {
      "cell_type": "markdown",
      "id": "6cba485a-1cd1-4f33-a8a8-719db7df1e15",
      "metadata": {
        "id": "6cba485a-1cd1-4f33-a8a8-719db7df1e15"
      },
      "source": [
        "Next, we will calculate the means for all predictors in both groups (potable and not potable)."
      ]
    },
    {
      "cell_type": "code",
      "execution_count": null,
      "id": "825e7eed-738d-47a9-a96b-ca8ded78b3c5",
      "metadata": {
        "id": "825e7eed-738d-47a9-a96b-ca8ded78b3c5"
      },
      "outputs": [],
      "source": [
        "water_train_scaled_means_potable <- water_train_scaled |>\n",
        "    filter(potability == \"1\") |>\n",
        "    select(-potability) |>\n",
        "    map_df(mean, na.rm = TRUE)\n",
        "    \n",
        "\n",
        "water_train_scaled_means_not_potable <- water_train_scaled |>\n",
        "    filter(potability == \"0\") |>\n",
        "    select(-potability) |>\n",
        "    map_df(mean, na.rm = TRUE)\n",
        "    \n",
        "\n",
        "potability_tibble <- tibble(potability = 0:1) |>\n",
        "    mutate(potability = as_factor(potability))\n",
        "\n",
        "water_train_scaled_means <- bind_rows(water_train_scaled_means_not_potable, water_train_scaled_means_potable) |>\n",
        "    bind_cols(potability_tibble)\n",
        "\n",
        "water_train_scaled_means"
      ]
    },
    {
      "cell_type": "markdown",
      "id": "f42675bc-6789-4d36-ae09-09af30ea9492",
      "metadata": {
        "id": "f42675bc-6789-4d36-ae09-09af30ea9492"
      },
      "source": [
        "<center> (Figure 7: Scaled means of all predictors according to potability) </center>"
      ]
    },
    {
      "cell_type": "markdown",
      "id": "a3e9a7bd-a807-4725-8389-afb63d9c0252",
      "metadata": {
        "id": "a3e9a7bd-a807-4725-8389-afb63d9c0252"
      },
      "source": [
        "<hr noshade>\n",
        "\n",
        "We visualize the means of each predictor variable grouped by each of the potability types to compare and analyze the trend <br>\n",
        "Here we make use of the `ggplot()` function from the `ggplot2` package which has already been loaded by the `tidyverse` package. \n",
        "\n",
        "The percentage-scaled means of each predictor are plotted below in a bar graph, separated by potability. Observe that there is virtually no difference in the means of each predictor between the potable and non-potable groups. This indicates that the data set was generated randomly which will make generating an accurate classification model quite difficult."
      ]
    },
    {
      "cell_type": "code",
      "execution_count": null,
      "id": "bcc2d9da-db41-421e-bf7e-f127fc211aff",
      "metadata": {
        "id": "bcc2d9da-db41-421e-bf7e-f127fc211aff"
      },
      "outputs": [],
      "source": [
        "#6. PLOT SCALED TRAINING DATA (0-1) IN A BARPLOT SHOWING MEANS OF EACH PREDICTOR\n",
        "options(repr.plot.width = 8, repr.plot.height = 8)\n",
        "\n",
        "water_train_scaled_longer <- water_train_scaled_means |> #pivot longer, generating columns \"predictor\" and \"value\"\n",
        "    pivot_longer(c(ph, hardness, solids, chloramines, sulfate, conductivity, organic_carbon, trihalomethanes, turbidity), names_to = \"predictor\")\n",
        "\n",
        "water_train_barplot <- water_train_scaled_longer |> #barplot showing the scaled (0 to 1) means of each predictor grouped by potability\n",
        "    mutate(potability = fct_recode(potability, \"no\" = \"0\", \"yes\" = \"1\")) |>\n",
        "    ggplot(aes(y = reorder(predictor, value), x = value, fill = potability)) + \n",
        "    geom_col(position = 'dodge') + \n",
        "    xlab(\"Standardized value\") +\n",
        "    ylab(\"Predictor\") +\n",
        "    labs(fill = \"Potable?\") +\n",
        "    ggtitle(\"Comparison of mean values of water potability predictors\") +\n",
        "    theme(text = element_text(size = 12))\n",
        "\n",
        "water_train_barplot"
      ]
    },
    {
      "cell_type": "markdown",
      "id": "98ec365c-f200-41a5-9321-b767c217e14f",
      "metadata": {
        "id": "98ec365c-f200-41a5-9321-b767c217e14f"
      },
      "source": [
        "<center> (Figure 8: Comparison of mean values of water potability predictors) </center>"
      ]
    },
    {
      "cell_type": "markdown",
      "id": "9224be14-e173-4870-ac6d-0b8ea57b6eab",
      "metadata": {
        "id": "9224be14-e173-4870-ac6d-0b8ea57b6eab"
      },
      "source": [
        "<hr noshade>\n",
        "\n",
        "To demonstrate this, below is a scatterplot comparing the distributions of two predictors (in this case, pH and hardness). These predictors were not selected for any particular reason other than visualization. We can observe that the distribution is quite random and there is a significant overlap between the potable and non-potable data points. While it is not shown here, the same is true using any combination of predictors."
      ]
    },
    {
      "cell_type": "code",
      "execution_count": null,
      "id": "3975bb37-db1b-49ae-a6da-2bd91a0d8862",
      "metadata": {
        "id": "3975bb37-db1b-49ae-a6da-2bd91a0d8862"
      },
      "outputs": [],
      "source": [
        "#7. SCALE TRAINING DATA USING SCALE()\n",
        " water_train_scaled_2 <- water_train |> #scale all predictors using the scale() function\n",
        "     select(-potability) |>\n",
        "     scale(center = TRUE, scale = TRUE) |>\n",
        "     bind_cols(potability = water_train$potability)\n",
        "\n",
        "#8. PLOT TRAINING DATA IN A SCATTERPLOT COMPARING THE DISTRIBUTION ACCORDING TO TWO SELECTED PREDICTORS\n",
        "water_train_scatterplot <- water_train |> #scatterplot comparing two predictors--in this case, pH and hardness, standardized\n",
        "    mutate(potability = fct_recode(potability, \"no\" = \"0\", \"yes\" = \"1\")) |>\n",
        "    ggplot(aes(x = ph, y = hardness, color = potability)) +\n",
        "    geom_point() +\n",
        "    labs(x = \"pH\", y = \"Hardness (mg/L)\", color = \"Potable?\") +\n",
        "    theme(text = element_text(size = 20))\n",
        "\n",
        "water_train_scatterplot"
      ]
    },
    {
      "cell_type": "markdown",
      "id": "5e792cf4-6cd6-4981-aba5-b17a12358365",
      "metadata": {
        "id": "5e792cf4-6cd6-4981-aba5-b17a12358365"
      },
      "source": [
        "<center> (Figure 9: Distribution of mean values of water potability predictors) </center>"
      ]
    },
    {
      "cell_type": "markdown",
      "id": "3101a030-67fb-4c21-b73f-96bc0be69fec",
      "metadata": {
        "tags": [],
        "id": "3101a030-67fb-4c21-b73f-96bc0be69fec"
      },
      "source": [
        "#### Generating, training, and testing the classification model"
      ]
    },
    {
      "cell_type": "markdown",
      "id": "4822d01e-221c-4118-8274-354d670ee070",
      "metadata": {
        "id": "4822d01e-221c-4118-8274-354d670ee070"
      },
      "source": [
        "From the exploratory data analysis, we made the following observations:\n",
        "- This synthetically generated data set was randomly generated without adherence to bona fide thresholds that determine water potability (even by the description provided by the author of the data set). A demonstrable example is shown immediately above in Figure 9 above. Note that observations representing potable water (in blue) are present all across the pH spectrum, even at highly acidic (pH < 5) or highly basic (pH > 10) conditions. The same pattern can be observed by looking at the other predictors (not shown).\n",
        "- One consequence of randomly generated data in this manner is that the predictors have a low correlation with one another. We will therefore proceed with the classification using all predictors. It is recommended that when using real data (and not synthetically generated data) to check for correlation between the predictors (multicollinearity).\n",
        "- Another consequence is that the model generated in the following data analysis will have low accuracy and should not be used for water potability classification in the real world--only as a demonstration.\n",
        "\n",
        "Next, we will proceed to generate, train, and test the classification model.  "
      ]
    },
    {
      "cell_type": "markdown",
      "id": "11fbccfe-2694-4e21-b335-b41ef904a540",
      "metadata": {
        "id": "11fbccfe-2694-4e21-b335-b41ef904a540"
      },
      "source": [
        "First, we will generate the model for v-fold cross-validation and the recipe to classify potability based on all predictors. This is done using the `vfold_cv()` function from the `tidymodels` library. This process, known as cross-validation, divides the data set into ten folds and validates each of the folds against the others in sequence. This allows us to determine the best k-value by evaluating the accuracy of the classifier multiple times."
      ]
    },
    {
      "cell_type": "code",
      "execution_count": null,
      "id": "d508d40f-a62b-436a-bdfd-244702f2a79c",
      "metadata": {
        "id": "d508d40f-a62b-436a-bdfd-244702f2a79c"
      },
      "outputs": [],
      "source": [
        "set.seed(1999)\n",
        "\n",
        "water_vfold <- vfold_cv(water_train, v = 10, strata = potability)\n",
        "\n",
        "water_recipe <- recipe(potability ~ ph+hardness+sulfate, data = water_train) |>\n",
        "    step_scale(all_predictors()) |>\n",
        "    step_center(all_predictors())"
      ]
    },
    {
      "cell_type": "markdown",
      "id": "49e827a5-4feb-4abd-9d2e-750d519b386d",
      "metadata": {
        "id": "49e827a5-4feb-4abd-9d2e-750d519b386d"
      },
      "source": [
        "<hr noshade>\n",
        "\n",
        "Next, we will tune our K-nearest neighbors specification to determine the K-value which will give us the highest accuracy. Here we generate a K-nearest neighbors model using the `nearest_neighbor()` function, set the engine to `kknn` (K-nearest neighbors), and the mode to `classification`. Then, using the `workflow()` function, we combine the recipe and model to tune our classifier."
      ]
    },
    {
      "cell_type": "code",
      "execution_count": null,
      "id": "828c9262-540f-458e-a131-c6aaf5311832",
      "metadata": {
        "id": "828c9262-540f-458e-a131-c6aaf5311832"
      },
      "outputs": [],
      "source": [
        "knn_spec <- nearest_neighbor(weight_func = \"rectangular\", neighbors = tune()) |>\n",
        "    set_engine(\"kknn\") |>\n",
        "    set_mode(\"classification\")\n",
        " \n",
        "knn_results <- workflow() |>\n",
        "    add_recipe(water_recipe) |>\n",
        "    add_model(knn_spec) |>\n",
        "    tune_grid(resamples = water_vfold, grid = 10) |>\n",
        "    collect_metrics()"
      ]
    },
    {
      "cell_type": "markdown",
      "id": "79c458db-2712-4c77-80bc-a64bf2ec780d",
      "metadata": {
        "id": "79c458db-2712-4c77-80bc-a64bf2ec780d"
      },
      "source": [
        "<hr noshade>\n",
        "\n",
        "By filtering the results of our workflow by the \"accuracy\" metric and ordering it by descending accuracy, we are presented with the K-value with the highest accuracy at the top of the table."
      ]
    },
    {
      "cell_type": "code",
      "execution_count": null,
      "id": "ce86dd72-c566-498c-9b3c-04a31342356f",
      "metadata": {
        "id": "ce86dd72-c566-498c-9b3c-04a31342356f"
      },
      "outputs": [],
      "source": [
        "accuracies <- knn_results |>\n",
        "    filter(.metric == \"accuracy\") |>\n",
        "    arrange(desc(mean))\n",
        "\n",
        "accuracies"
      ]
    },
    {
      "cell_type": "markdown",
      "id": "14ba75b6-b469-4a95-9c08-c711a30c45f9",
      "metadata": {
        "id": "14ba75b6-b469-4a95-9c08-c711a30c45f9"
      },
      "source": [
        "<center>(Figure 10: Table of accuracies at each K-value)</center>"
      ]
    },
    {
      "cell_type": "markdown",
      "id": "fbbcbb88-361d-4136-bfd7-7a365a8eb5cd",
      "metadata": {
        "id": "fbbcbb88-361d-4136-bfd7-7a365a8eb5cd"
      },
      "source": [
        "<hr noshade>\n",
        "\n",
        "We can also visualize the K-value selection process in the form of a line graph with accuracy on the y-axis vs. the k-value on the x-axis. Note that accuracy is at its maximum when k = 11 (given the high randomness of this data set, this value will vary greatly if the random seed is changed compared to a real-world data set)."
      ]
    },
    {
      "cell_type": "code",
      "execution_count": null,
      "id": "15675592-b495-40f8-8d9b-b797e5b65d9c",
      "metadata": {
        "id": "15675592-b495-40f8-8d9b-b797e5b65d9c"
      },
      "outputs": [],
      "source": [
        "options(repr.plot.width = 8, repr.plot.height = 8)\n",
        "\n",
        "accuracy_vs_k <- ggplot(accuracies, aes(x = neighbors, y = mean)) +\n",
        "    geom_point() +\n",
        "    geom_line() +\n",
        "    labs(x = \"Neighbors\", y = \"Accuracy Estimate\") + \n",
        "    ggtitle(\"Accuracy versus K-value\") +\n",
        "    theme(text = element_text(size = 12))\n",
        "\n",
        "accuracy_vs_k"
      ]
    },
    {
      "cell_type": "markdown",
      "id": "cdd3c9b0-82a6-43a1-b634-95f4113a1eba",
      "metadata": {
        "id": "cdd3c9b0-82a6-43a1-b634-95f4113a1eba"
      },
      "source": [
        "<center>(Figure 11: Accuracy versus K-value)</center>"
      ]
    },
    {
      "cell_type": "markdown",
      "id": "f47e8ba6-cb6a-4259-8f23-166ff52527f3",
      "metadata": {
        "id": "f47e8ba6-cb6a-4259-8f23-166ff52527f3"
      },
      "source": [
        "<hr noshade>\n",
        "\n",
        "We will then generate a new K-nearest neighbors model using K = 12."
      ]
    },
    {
      "cell_type": "code",
      "execution_count": null,
      "id": "4cf38e41-65e8-4cc5-885e-5329d0b55ee6",
      "metadata": {
        "id": "4cf38e41-65e8-4cc5-885e-5329d0b55ee6"
      },
      "outputs": [],
      "source": [
        "knn_best_spec <- nearest_neighbor(weight_func = \"rectangular\", neighbors = 12) |>\n",
        "    set_engine(\"kknn\") |>\n",
        "    set_mode(\"classification\")"
      ]
    },
    {
      "cell_type": "markdown",
      "id": "d66f4cdd-c701-4912-98e2-ab6ab6093c7b",
      "metadata": {
        "id": "d66f4cdd-c701-4912-98e2-ab6ab6093c7b"
      },
      "source": [
        "<hr noshade>\n",
        "\n",
        "Then, we can put the recipe generated earlier together with our new model in the `workflow()` function and fit it to our training data set. Our classification model is now trained and complete!"
      ]
    },
    {
      "cell_type": "code",
      "execution_count": null,
      "id": "5614eed5-6755-4fb1-bcd6-6574239e6c6d",
      "metadata": {
        "id": "5614eed5-6755-4fb1-bcd6-6574239e6c6d"
      },
      "outputs": [],
      "source": [
        "water_fit <- workflow() |>\n",
        "    add_recipe(water_recipe) |>\n",
        "    add_model(knn_best_spec) |>\n",
        "    fit(data = water_train)"
      ]
    },
    {
      "cell_type": "markdown",
      "id": "32ba5fe7-5ab7-4da7-9a46-c79c09a8b5d3",
      "metadata": {
        "id": "32ba5fe7-5ab7-4da7-9a46-c79c09a8b5d3"
      },
      "source": [
        "<hr noshade>\n",
        "\n",
        "Now, we can use test the model on the testing data set to determine how accurate it is:"
      ]
    },
    {
      "cell_type": "code",
      "execution_count": null,
      "id": "5f08998d-e3cd-4240-ade0-8298f556f5ef",
      "metadata": {
        "id": "5f08998d-e3cd-4240-ade0-8298f556f5ef"
      },
      "outputs": [],
      "source": [
        "water_predictions <- predict(water_fit, water_test) |>\n",
        "    bind_cols(water_test)\n",
        "\n",
        "head(water_predictions)"
      ]
    },
    {
      "cell_type": "markdown",
      "id": "9337ff94-ecdd-4edc-a5b6-c9ab9f550135",
      "metadata": {
        "id": "9337ff94-ecdd-4edc-a5b6-c9ab9f550135"
      },
      "source": [
        "<center>(Figure 12: Table of predictions of the testing data set.)</center>"
      ]
    },
    {
      "cell_type": "markdown",
      "id": "71ea5836-38f1-43c1-a68a-17136f2766d0",
      "metadata": {
        "id": "71ea5836-38f1-43c1-a68a-17136f2766d0"
      },
      "source": [
        "<hr noshade>\n",
        "\n",
        "Next, we can retrieve the accuracy of our predictions."
      ]
    },
    {
      "cell_type": "code",
      "execution_count": null,
      "id": "74f19651-39aa-4b72-b153-e1a83249ade9",
      "metadata": {
        "id": "74f19651-39aa-4b72-b153-e1a83249ade9"
      },
      "outputs": [],
      "source": [
        "water_acc <- water_predictions |>\n",
        "    metrics(truth = potability, estimate = .pred_class) |>\n",
        "    select(.metric, .estimate) |>\n",
        "    head(1) |>\n",
        "    pull()\n",
        "\n",
        "water_acc"
      ]
    },
    {
      "cell_type": "markdown",
      "id": "c7f03e56-8e40-4ca3-8b9f-971ecf5e19cf",
      "metadata": {
        "id": "c7f03e56-8e40-4ca3-8b9f-971ecf5e19cf"
      },
      "source": [
        "<hr noshade>\n",
        "\n",
        "~ 68.19% of the time, the classification model correctly predicted whether the water was potable or not. This is quite a low value but to be expected given the randomness of this data. Most of the time, the values of the predictors beared no meaning on whether or not the water was potable. However, if the data set had been better generated, then the accuracy would be much higher.\n",
        "\n",
        "Next, we can generate a confusion matrix to show how many false positives (incorrectly guessed that the water was potable when it was not) and false negatives (incorrectly guessed that the water was not potable when it was) there were."
      ]
    },
    {
      "cell_type": "code",
      "execution_count": null,
      "id": "d59c2575-4541-4d2e-a301-8b2106be0d1c",
      "metadata": {
        "id": "d59c2575-4541-4d2e-a301-8b2106be0d1c"
      },
      "outputs": [],
      "source": [
        "water_cm <- water_predictions |>\n",
        "    conf_mat(truth = potability, estimate = .pred_class)\n",
        "\n",
        "water_cm"
      ]
    },
    {
      "cell_type": "markdown",
      "id": "11aab6c8-99f3-46b0-84a9-a2b5af99aded",
      "metadata": {
        "id": "11aab6c8-99f3-46b0-84a9-a2b5af99aded"
      },
      "source": [
        "<center>(Figure 13: Confusion matrix for water potability predictions)</center>"
      ]
    },
    {
      "cell_type": "markdown",
      "id": "a2225a4f-eed5-4c71-b298-28344f541057",
      "metadata": {
        "id": "a2225a4f-eed5-4c71-b298-28344f541057"
      },
      "source": [
        "<hr noshade>\n",
        "\n",
        "There were 242 true negatives, 114 false negatives, 58 true positives, and 89 false positives. Overall, these do not represent great numbers, and a classification model returning such values would not suffice for evaluating water potability. This can be attributed to either a poor classification model, or (more likely in this case) poor data quality."
      ]
    },
    {
      "cell_type": "markdown",
      "id": "2cf6db11-fe05-4a78-838b-38f6fb594c26",
      "metadata": {
        "tags": [],
        "id": "2cf6db11-fe05-4a78-838b-38f6fb594c26"
      },
      "source": [
        "### Discussion"
      ]
    },
    {
      "cell_type": "markdown",
      "id": "a16611f9-5cd8-40f7-baf1-f166fca9f90e",
      "metadata": {
        "id": "a16611f9-5cd8-40f7-baf1-f166fca9f90e"
      },
      "source": [
        "As described previously, during our preliminary data analysis the dataset used was found to be highly random with a low correlation between the predictors. Additionally, when grouped by class (potable vs. non-potable), the means of all predictors were highly similar. We observe that approximately 60% of the observations were classified as potable. Thus, a 68.1% accuracy is optimal with the current database. We expect to see a much higher accuracy when a classification model is generated using our steps with a real-world dataset. \n",
        "\n",
        "Water is of major importance to all living organisms, especially humans, whose bodies are made up of 60% water. Lack of access to potable water is an ever-growing issue that continues to affect many regions globally. Using a classification model generated similarly to what we have done, we can recognize which water bodies are safe to drink based on their chemical and physical properties such as pH, conductivity, sulfate content, and what causes the variability in the potability. While our analysis was restricted to nine predictors (pH, hardness, total dissolved solids, chloramines, sulfate, conductivity, organic carbon, trihalomethanes, and turbidity), there are many other predictors which can and should be utilized for better classification. Future research could be done to determine which predictors are most analytically valuable and economically feasible. The impact of certain predictors will likely vary between the geographical region and should be well-researched before implementing any model in real-world use."
      ]
    },
    {
      "cell_type": "markdown",
      "id": "685d4cdc-a8d5-4da7-8b03-137ee8fb9342",
      "metadata": {
        "tags": [],
        "id": "685d4cdc-a8d5-4da7-8b03-137ee8fb9342"
      },
      "source": [
        "### References"
      ]
    },
    {
      "cell_type": "markdown",
      "id": "9fa3736a-ba85-498f-ad4b-a3e80f425b90",
      "metadata": {
        "id": "9fa3736a-ba85-498f-ad4b-a3e80f425b90"
      },
      "source": [
        "(1) World Health Organization; United Nations Children’s Fund (UNICEF); World Bank. State of the World’s Drinking Water: An Urgent Call to Action to Accelerate Progress on Ensuring Safe Drinking Water for All; World Health Organization: Geneva, 2022.\n",
        "\n",
        "(2) Srivastav, A. L.; Patel, N.; Chaudhary, V. K. Disinfection By-Products in Drinking Water: Occurrence, Toxicity and Abatement. Environmental Pollution 2020, 267, 115474. https://doi.org/10.1016/j.envpol.2020.115474.\n",
        "\n",
        "(3) Timbers, T.-A.; Campbell, T.; Lee, M. Data Science: An Introduction, First edition.; Statistics; CRC Press: Boca Raton, 2022."
      ]
    }
  ],
  "metadata": {
    "kernelspec": {
      "display_name": "R",
      "language": "R",
      "name": "ir"
    },
    "language_info": {
      "codemirror_mode": "r",
      "file_extension": ".r",
      "mimetype": "text/x-r-source",
      "name": "R",
      "pygments_lexer": "r",
      "version": "4.1.3"
    },
    "colab": {
      "provenance": []
    }
  },
  "nbformat": 4,
  "nbformat_minor": 5
}